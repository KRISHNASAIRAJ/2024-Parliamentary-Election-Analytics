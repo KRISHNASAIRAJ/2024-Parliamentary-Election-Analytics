{
 "cells": [
  {
   "cell_type": "code",
   "execution_count": 1,
   "metadata": {},
   "outputs": [],
   "source": [
    "import requests\n",
    "from bs4 import BeautifulSoup\n",
    "import csv"
   ]
  },
  {
   "cell_type": "code",
   "execution_count": 2,
   "metadata": {},
   "outputs": [],
   "source": [
    "home_url = \"https://results.eci.gov.in/PcResultGenJune2024/index.htm\"\n",
    "response = requests.get(home_url)"
   ]
  },
  {
   "cell_type": "code",
   "execution_count": 3,
   "metadata": {},
   "outputs": [],
   "source": [
    "soup = BeautifulSoup(response.content, 'html.parser')"
   ]
  },
  {
   "cell_type": "code",
   "execution_count": 4,
   "metadata": {},
   "outputs": [
    {
     "name": "stdout",
     "output_type": "stream",
     "text": [
      "CSV file Party_Wise_Results_Status.csv created successfully.\n"
     ]
    }
   ],
   "source": [
    "results_table = soup.find('table', class_='table')\n",
    "if results_table:\n",
    "    rows = results_table.find_all('tr')\n",
    "    with open('Party_Wise_Results_Status.csv', mode='w', newline='') as csv_file:\n",
    "        writer = csv.writer(csv_file)\n",
    "        writer.writerow(['Party', 'Won', 'Leading', 'Total'])\n",
    "\n",
    "        for row in rows:\n",
    "            cells = row.find_all('td')\n",
    "            if len(cells) > 1:\n",
    "                Party = cells[0].text.strip()\n",
    "                Won = cells[1].text.strip()\n",
    "                Leading = cells[2].text.strip()\n",
    "                Total = cells[3].text.strip()\n",
    "                writer.writerow([Party, Won, Leading, Total])\n",
    "\n",
    "    print(\"CSV file Party_Wise_Results_Status.csv created successfully.\")"
   ]
  },
  {
   "cell_type": "code",
   "execution_count": 55,
   "metadata": {},
   "outputs": [
    {
     "name": "stdout",
     "output_type": "stream",
     "text": [
      "File 1.Andhra Pradesh.csv created successfully.\n",
      "File 2.Arunachal Pradesh.csv created successfully.\n",
      "File 3.Assam.csv created successfully.\n",
      "File 4.Bihar.csv created successfully.\n",
      "File 5.Goa.csv created successfully.\n",
      "File 6.Gujarat.csv created successfully.\n",
      "File 7.Haryana.csv created successfully.\n",
      "File 8.Himachal Pradesh.csv created successfully.\n",
      "File 9.Karnataka.csv created successfully.\n",
      "File 10.Kerala.csv created successfully.\n",
      "File 11.Madhya Pradesh.csv created successfully.\n",
      "File 12.Maharashtra.csv created successfully.\n",
      "File 13.Manipur.csv created successfully.\n",
      "File 14.Meghalaya.csv created successfully.\n",
      "File 15.Mizoram.csv created successfully.\n",
      "File 16.Nagaland.csv created successfully.\n",
      "File 17.Odisha.csv created successfully.\n",
      "File 18.Punjab.csv created successfully.\n",
      "File 19.Rajasthan.csv created successfully.\n",
      "File 20.Sikkim.csv created successfully.\n",
      "File 21.Tamil Nadu.csv created successfully.\n",
      "File 22.Tripura.csv created successfully.\n",
      "File 23.Uttar Pradesh.csv created successfully.\n",
      "File 24.West Bengal.csv created successfully.\n",
      "File 25.Chhattisgarh.csv created successfully.\n",
      "File 26.Jharkhand.csv created successfully.\n",
      "File 27.Uttarakhand.csv created successfully.\n",
      "File 28.Telangana.csv created successfully.\n"
     ]
    }
   ],
   "source": [
    "# count=0\n",
    "# for i in range(1, 30):\n",
    "#     if i < 10:\n",
    "#         statewise_url = f\"https://results.eci.gov.in/PcResultGenJune2024/partywiseresult-S0{i}.htm\"\n",
    "#     else:\n",
    "#         statewise_url = f\"https://results.eci.gov.in/PcResultGenJune2024/partywiseresult-S{i}.htm\"\n",
    "    \n",
    "#     response = requests.get(statewise_url)\n",
    "#     soup = BeautifulSoup(response.content, 'html.parser')\n",
    "#     results_table = soup.find('table', class_='table')\n",
    "#     h2_elements = soup.find_all('h2')\n",
    "    \n",
    "#     for h2 in h2_elements:\n",
    "#         strong_tag = h2.find('strong')\n",
    "#         if strong_tag:\n",
    "#             state_name = strong_tag.text.strip()\n",
    "    \n",
    "#     if results_table:\n",
    "#         count+=1\n",
    "#         rows = results_table.find_all('tr')\n",
    "#         with open(f'{count}.{state_name}.csv', mode='w', newline='') as csv_file:\n",
    "#             writer = csv.writer(csv_file)\n",
    "#             writer.writerow(['Party', 'Won', 'Leading', 'Total'])\n",
    "            \n",
    "#             # Write rows to CSV\n",
    "#             for row in rows:\n",
    "#                 cells = row.find_all('td')\n",
    "#                 if len(cells) > 1:\n",
    "#                     Party = cells[0].text.strip()\n",
    "#                     Won = cells[1].text.strip()\n",
    "#                     Leading = cells[2].text.strip()\n",
    "#                     Total = cells[3].text.strip()\n",
    "#                     writer.writerow([Party, Won, Leading, Total])\n",
    "        \n",
    "#         print(f\"File {count}.{state_name}.csv created successfully.\")"
   ]
  },
  {
   "cell_type": "code",
   "execution_count": 5,
   "metadata": {},
   "outputs": [
    {
     "name": "stdout",
     "output_type": "stream",
     "text": [
      "Records for Andhra Pradesh added successfully.\n",
      "Records for Arunachal Pradesh added successfully.\n",
      "Records for Assam added successfully.\n",
      "Records for Bihar added successfully.\n",
      "Records for Goa added successfully.\n",
      "Records for Gujarat added successfully.\n",
      "Records for Haryana added successfully.\n",
      "Records for Himachal Pradesh added successfully.\n",
      "Records for Karnataka added successfully.\n",
      "Records for Kerala added successfully.\n",
      "Records for Madhya Pradesh added successfully.\n",
      "Records for Maharashtra added successfully.\n",
      "Records for Manipur added successfully.\n",
      "Records for Meghalaya added successfully.\n",
      "Records for Mizoram added successfully.\n",
      "Records for Nagaland added successfully.\n",
      "Records for Odisha added successfully.\n",
      "Records for Punjab added successfully.\n",
      "Records for Rajasthan added successfully.\n",
      "Records for Sikkim added successfully.\n",
      "Records for Tamil Nadu added successfully.\n",
      "Records for Tripura added successfully.\n",
      "Records for Uttar Pradesh added successfully.\n",
      "Records for West Bengal added successfully.\n",
      "Records for Chhattisgarh added successfully.\n",
      "Records for Jharkhand added successfully.\n",
      "Records for Uttarakhand added successfully.\n",
      "Records for Telangana added successfully.\n",
      "All records have been written to 'election_results.csv' successfully.\n"
     ]
    }
   ],
   "source": [
    "with open('election_results.csv', mode='w', newline='', encoding='utf-8') as csv_file:\n",
    "    writer = csv.writer(csv_file)\n",
    "    # Write the header row\n",
    "    writer.writerow(['State', 'Party', 'Won', 'Leading', 'Total'])\n",
    "    \n",
    "    count = 0\n",
    "    for i in range(1, 30):\n",
    "        if i < 10:\n",
    "            statewise_url = f\"https://results.eci.gov.in/PcResultGenJune2024/partywiseresult-S0{i}.htm\"\n",
    "        else:\n",
    "            statewise_url = f\"https://results.eci.gov.in/PcResultGenJune2024/partywiseresult-S{i}.htm\"\n",
    "        \n",
    "        response = requests.get(statewise_url)\n",
    "        soup = BeautifulSoup(response.content, 'html.parser')\n",
    "        results_table = soup.find('table', class_='table')\n",
    "        h2_elements = soup.find_all('h2')\n",
    "        \n",
    "        state_name = ''\n",
    "        for h2 in h2_elements:\n",
    "            strong_tag = h2.find('strong')\n",
    "            if strong_tag:\n",
    "                state_name = strong_tag.text.strip()\n",
    "        \n",
    "        if results_table:\n",
    "            count += 1\n",
    "            rows = results_table.find_all('tr')\n",
    "            \n",
    "            # Write rows to CSV\n",
    "            for row in rows:\n",
    "                cells = row.find_all('td')\n",
    "                if len(cells) > 1:\n",
    "                    Party = cells[0].text.strip()\n",
    "                    Won = cells[1].text.strip()\n",
    "                    Leading = cells[2].text.strip()\n",
    "                    Total = cells[3].text.strip()\n",
    "                    writer.writerow([state_name, Party, Won, Leading, Total])\n",
    "            \n",
    "            print(f\"Records for {state_name} added successfully.\")\n",
    "\n",
    "print(\"All records have been written to 'election_results.csv' successfully.\")"
   ]
  },
  {
   "cell_type": "code",
   "execution_count": 54,
   "metadata": {},
   "outputs": [
    {
     "name": "stdout",
     "output_type": "stream",
     "text": [
      "File 1.Andaman & Nicobar Islands.csv created successfully.\n",
      "File 2.Chandigarh.csv created successfully.\n",
      "File 3.Dadra & Nagar Haveli and Daman & Diu.csv created successfully.\n",
      "File 4.NCT OF Delhi.csv created successfully.\n",
      "File 5.Lakshadweep.csv created successfully.\n",
      "File 6.Puducherry.csv created successfully.\n",
      "File 7.Jammu and Kashmir.csv created successfully.\n",
      "File 8.Ladakh.csv created successfully.\n"
     ]
    }
   ],
   "source": [
    "count = 0\n",
    "\n",
    "for i in range(1, 10):\n",
    "    ut_url = f\"https://results.eci.gov.in/PcResultGenJune2024/partywiseresult-U0{i}.htm\"\n",
    "    \n",
    "    response = requests.get(ut_url)\n",
    "    soup = BeautifulSoup(response.content, 'html.parser')\n",
    "    results_table = soup.find('table', class_='table')\n",
    "    h2_elements = soup.find_all('h2')\n",
    "    \n",
    "    for h2 in h2_elements:\n",
    "        strong_tag = h2.find('strong')\n",
    "        if strong_tag:\n",
    "            ut_name = strong_tag.text.strip()\n",
    "    if results_table:\n",
    "        rows = results_table.find_all('tr')\n",
    "        count += 1\n",
    "        with open(f'{count}.{ut_name}.csv', mode='w', newline='') as csv_file:\n",
    "            writer = csv.writer(csv_file)\n",
    "            writer.writerow(['Party', 'Won', 'Leading', 'Total'])\n",
    "            \n",
    "            # Write rows to CSV\n",
    "            for row in rows:\n",
    "                cells = row.find_all('td')\n",
    "                if len(cells) > 1:\n",
    "                    Party = cells[0].text.strip()\n",
    "                    Won = cells[1].text.strip()\n",
    "                    Leading = cells[2].text.strip()\n",
    "                    Total = cells[3].text.strip()\n",
    "                    writer.writerow([Party, Won, Leading, Total])\n",
    "        \n",
    "        print(f\"File {count}.{ut_name}.csv created successfully.\")"
   ]
  },
  {
   "cell_type": "code",
   "execution_count": null,
   "metadata": {},
   "outputs": [],
   "source": []
  }
 ],
 "metadata": {
  "kernelspec": {
   "display_name": "base",
   "language": "python",
   "name": "python3"
  },
  "language_info": {
   "codemirror_mode": {
    "name": "ipython",
    "version": 3
   },
   "file_extension": ".py",
   "mimetype": "text/x-python",
   "name": "python",
   "nbconvert_exporter": "python",
   "pygments_lexer": "ipython3",
   "version": "3.10.9"
  }
 },
 "nbformat": 4,
 "nbformat_minor": 2
}
